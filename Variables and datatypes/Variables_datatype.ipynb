{
 "cells": [
  {
   "cell_type": "markdown",
   "id": "aad70fc6",
   "metadata": {},
   "source": [
    "# Rules for naming the variables"
   ]
  },
  {
   "cell_type": "markdown",
   "id": "1b7b7818",
   "metadata": {},
   "source": [
    "1. Variable name should have a combination of letters in uppercase or lowercase or digits or underscore(_)"
   ]
  },
  {
   "cell_type": "code",
   "execution_count": 1,
   "id": "319fc6ca",
   "metadata": {},
   "outputs": [],
   "source": [
    "#valid variable name\n",
    "a = 10\n",
    "isDone = True\n",
    "mark1 = 100\n",
    "avg_score = 78.34"
   ]
  },
  {
   "cell_type": "markdown",
   "id": "8d98bedc",
   "metadata": {},
   "source": [
    "2.  Variable name are case sensitive"
   ]
  },
  {
   "cell_type": "code",
   "execution_count": 2,
   "id": "78a88a79",
   "metadata": {},
   "outputs": [
    {
     "name": "stdout",
     "output_type": "stream",
     "text": [
      "hello welcome done\n"
     ]
    }
   ],
   "source": [
    "# all these variables are different\n",
    "msg = 'hello'\n",
    "Msg = 'welcome'\n",
    "MSG = 'done'\n",
    "print(msg, Msg, MSG)"
   ]
  },
  {
   "cell_type": "markdown",
   "id": "90430319",
   "metadata": {},
   "source": [
    "3. Variable cannot start with the digit, but with letters in uppercase or lowercase or underscore"
   ]
  },
  {
   "cell_type": "code",
   "execution_count": 3,
   "id": "ef0c20e1",
   "metadata": {},
   "outputs": [
    {
     "ename": "SyntaxError",
     "evalue": "invalid decimal literal (2481750955.py, line 2)",
     "output_type": "error",
     "traceback": [
      "  \u001b[36mCell\u001b[39m\u001b[36m \u001b[39m\u001b[32mIn[3]\u001b[39m\u001b[32m, line 2\u001b[39m\n\u001b[31m    \u001b[39m\u001b[31m1done = 10\u001b[39m\n    ^\n\u001b[31mSyntaxError\u001b[39m\u001b[31m:\u001b[39m invalid decimal literal\n"
     ]
    }
   ],
   "source": [
    "#invalid variable name\n",
    "1done = 10\n",
    "\n",
    "#valid variable name\n",
    "_init = 78.45"
   ]
  },
  {
   "cell_type": "markdown",
   "id": "fa1d137f",
   "metadata": {},
   "source": [
    "4. Avoid keywords are variable name\n",
    "   eg: if, for, while, etc"
   ]
  },
  {
   "cell_type": "code",
   "execution_count": 4,
   "id": "4c2d91af",
   "metadata": {},
   "outputs": [
    {
     "ename": "SyntaxError",
     "evalue": "invalid syntax (3081693878.py, line 2)",
     "output_type": "error",
     "traceback": [
      "  \u001b[36mCell\u001b[39m\u001b[36m \u001b[39m\u001b[32mIn[4]\u001b[39m\u001b[32m, line 2\u001b[39m\n\u001b[31m    \u001b[39m\u001b[31mif = 10\u001b[39m\n       ^\n\u001b[31mSyntaxError\u001b[39m\u001b[31m:\u001b[39m invalid syntax\n"
     ]
    }
   ],
   "source": [
    "#invalid variable name\n",
    "if = 10"
   ]
  },
  {
   "cell_type": "markdown",
   "id": "f4a009e7",
   "metadata": {},
   "source": [
    "# Number Variables\n",
    "\n",
    "Numbers are of three types in python: int, float, complex"
   ]
  },
  {
   "cell_type": "code",
   "execution_count": 5,
   "id": "e035fd3e",
   "metadata": {},
   "outputs": [
    {
     "data": {
      "text/plain": [
       "int"
      ]
     },
     "execution_count": 5,
     "metadata": {},
     "output_type": "execute_result"
    }
   ],
   "source": [
    "a = 10\n",
    "type(a)"
   ]
  },
  {
   "cell_type": "code",
   "execution_count": 6,
   "id": "5628239b",
   "metadata": {},
   "outputs": [
    {
     "data": {
      "text/plain": [
       "float"
      ]
     },
     "execution_count": 6,
     "metadata": {},
     "output_type": "execute_result"
    }
   ],
   "source": [
    "a = 89.34\n",
    "type(a)"
   ]
  },
  {
   "cell_type": "code",
   "execution_count": 7,
   "id": "c992e48c",
   "metadata": {},
   "outputs": [
    {
     "data": {
      "text/plain": [
       "complex"
      ]
     },
     "execution_count": 7,
     "metadata": {},
     "output_type": "execute_result"
    }
   ],
   "source": [
    "#Complex number: imaginary number + real number\n",
    "a = 5j + 6\n",
    "type(a)"
   ]
  },
  {
   "cell_type": "code",
   "execution_count": 8,
   "id": "e0964a18",
   "metadata": {},
   "outputs": [
    {
     "name": "stdout",
     "output_type": "stream",
     "text": [
      "(6+5j)\n"
     ]
    }
   ],
   "source": [
    "print(a)"
   ]
  },
  {
   "cell_type": "markdown",
   "id": "8d06595b",
   "metadata": {},
   "source": [
    "# String Variables\n",
    "\n",
    "Strings in python are the sequence or collection of character"
   ]
  },
  {
   "cell_type": "code",
   "execution_count": null,
   "id": "cd934773",
   "metadata": {},
   "outputs": [
    {
     "name": "stdout",
     "output_type": "stream",
     "text": [
      "sting\n",
      "hii\n",
      "hello im a\n",
      "multi line\n",
      "text\n"
     ]
    }
   ],
   "source": [
    "a = \"sting\"\n",
    "b = 'Hello-231563'\n",
    "c = \"\"\"hello im a\n",
    "multi line\n",
    "text\"\"\"\n",
    "print(a)\n",
    "print(b)\n",
    "print(c)"
   ]
  },
  {
   "cell_type": "code",
   "execution_count": 13,
   "id": "4b51d1f1",
   "metadata": {},
   "outputs": [
    {
     "name": "stdout",
     "output_type": "stream",
     "text": [
      "<class 'str'>\n",
      "<class 'str'>\n",
      "<class 'str'>\n"
     ]
    }
   ],
   "source": [
    "print(type(a))\n",
    "print(type(b))\n",
    "print(type(c))"
   ]
  },
  {
   "cell_type": "markdown",
   "id": "a5de0656",
   "metadata": {},
   "source": [
    "# Boolean Variables\n",
    "\n",
    " Boolean variables can have two values (literal): True or False"
   ]
  },
  {
   "cell_type": "code",
   "execution_count": 18,
   "id": "a291f314",
   "metadata": {},
   "outputs": [
    {
     "name": "stdout",
     "output_type": "stream",
     "text": [
      "<class 'bool'>\n",
      "<class 'str'>\n",
      "<class 'bool'>\n"
     ]
    }
   ],
   "source": [
    "a = True\n",
    "b = \"True\"\n",
    "c = False\n",
    "print(type(a))\n",
    "print(type(b))\n",
    "print(type(c))"
   ]
  },
  {
   "cell_type": "code",
   "execution_count": 17,
   "id": "5a996423",
   "metadata": {},
   "outputs": [
    {
     "data": {
      "text/plain": [
       "bool"
      ]
     },
     "execution_count": 17,
     "metadata": {},
     "output_type": "execute_result"
    }
   ],
   "source": [
    "y = (3 < 5)\n",
    "type(y)"
   ]
  },
  {
   "cell_type": "markdown",
   "id": "f66cabc7",
   "metadata": {},
   "source": [
    "## Assigning the multiple values to multiple variables in single instruction or single value to multiple variable."
   ]
  },
  {
   "cell_type": "code",
   "execution_count": 1,
   "id": "54088cc8",
   "metadata": {},
   "outputs": [
    {
     "name": "stdout",
     "output_type": "stream",
     "text": [
      "10 20 30\n",
      "2 5 7\n"
     ]
    }
   ],
   "source": [
    "# We can assign the values using multiple instructions\n",
    "a = 10\n",
    "b = 20\n",
    "c = 30\n",
    "print(a,b,c)\n",
    "\n",
    "# Now we will use single instruction\n",
    "a, b, c = 2, 5, 7\n",
    "print(a,b,c)"
   ]
  },
  {
   "cell_type": "code",
   "execution_count": 2,
   "id": "3c0cb687",
   "metadata": {},
   "outputs": [
    {
     "name": "stdout",
     "output_type": "stream",
     "text": [
      "10 10 10\n"
     ]
    }
   ],
   "source": [
    "# We can assign same value to multiple variables\n",
    "a = b = c = 10\n",
    "print(a,b,c)"
   ]
  }
 ],
 "metadata": {
  "kernelspec": {
   "display_name": "Python 3",
   "language": "python",
   "name": "python3"
  },
  "language_info": {
   "codemirror_mode": {
    "name": "ipython",
    "version": 3
   },
   "file_extension": ".py",
   "mimetype": "text/x-python",
   "name": "python",
   "nbconvert_exporter": "python",
   "pygments_lexer": "ipython3",
   "version": "3.12.7"
  }
 },
 "nbformat": 4,
 "nbformat_minor": 5
}
