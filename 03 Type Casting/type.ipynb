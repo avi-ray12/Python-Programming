{
 "cells": [
  {
   "cell_type": "markdown",
   "id": "1e192889",
   "metadata": {},
   "source": [
    "# Type Casting\n",
    "\n",
    "Means changing the datatype of the variable from one type to another\n",
    "\n",
    "There two types of type casting:\n",
    "1. Implicit type casting: change done by the interpreter (automatic)\n",
    "2. Explicit type casting: change is defined by the programmer"
   ]
  },
  {
   "cell_type": "markdown",
   "id": "78987449",
   "metadata": {},
   "source": [
    "### Implicit Type Casting"
   ]
  },
  {
   "cell_type": "code",
   "execution_count": 1,
   "id": "899e8e53",
   "metadata": {},
   "outputs": [
    {
     "name": "stdout",
     "output_type": "stream",
     "text": [
      "30.24\n"
     ]
    },
    {
     "data": {
      "text/plain": [
       "float"
      ]
     },
     "execution_count": 1,
     "metadata": {},
     "output_type": "execute_result"
    }
   ],
   "source": [
    "a = 10 #integer variable\n",
    "b = 20.24 #float variable\n",
    "\n",
    "sum = a + b #type of variable a will be changed automatically to float before addition\n",
    "print(sum)\n",
    "type(sum)"
   ]
  },
  {
   "cell_type": "markdown",
   "id": "b20da3d6",
   "metadata": {},
   "source": [
    "### Explicit Type Casting\n",
    "\n",
    "This is done using the functions like int(), float(), str(), bool()......"
   ]
  },
  {
   "cell_type": "code",
   "execution_count": 2,
   "id": "37905713",
   "metadata": {},
   "outputs": [
    {
     "name": "stdout",
     "output_type": "stream",
     "text": [
      "30\n"
     ]
    }
   ],
   "source": [
    "a = 10 #integer variable\n",
    "b = 20.24 #float variable\n",
    "\n",
    "#sum to be of int type\n",
    "sum = a + int(b)\n",
    "print(sum)"
   ]
  },
  {
   "cell_type": "code",
   "execution_count": 3,
   "id": "34a9b96a",
   "metadata": {},
   "outputs": [
    {
     "name": "stdout",
     "output_type": "stream",
     "text": [
      "50\n"
     ]
    }
   ],
   "source": [
    "a = 10 #integer_number\n",
    "b = '40' #integer_string\n",
    "\n",
    "sum = a + int(b)\n",
    "print(sum)"
   ]
  },
  {
   "cell_type": "markdown",
   "id": "3a06d4ea",
   "metadata": {},
   "source": [
    "# Special Literal: None\n",
    "\n",
    "This is used to declare None variable without any specific data type"
   ]
  },
  {
   "cell_type": "code",
   "execution_count": 4,
   "id": "3259865c",
   "metadata": {},
   "outputs": [
    {
     "data": {
      "text/plain": [
       "NoneType"
      ]
     },
     "execution_count": 4,
     "metadata": {},
     "output_type": "execute_result"
    }
   ],
   "source": [
    "a = None\n",
    "type(a)"
   ]
  },
  {
   "cell_type": "code",
   "execution_count": null,
   "id": "9cfd3ef9",
   "metadata": {},
   "outputs": [],
   "source": []
  }
 ],
 "metadata": {
  "kernelspec": {
   "display_name": "Python 3",
   "language": "python",
   "name": "python3"
  },
  "language_info": {
   "codemirror_mode": {
    "name": "ipython",
    "version": 3
   },
   "file_extension": ".py",
   "mimetype": "text/x-python",
   "name": "python",
   "nbconvert_exporter": "python",
   "pygments_lexer": "ipython3",
   "version": "3.12.7"
  }
 },
 "nbformat": 4,
 "nbformat_minor": 5
}
