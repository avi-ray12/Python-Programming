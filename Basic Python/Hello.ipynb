{
 "cells": [
  {
   "cell_type": "code",
   "execution_count": null,
   "id": "e2fae42c",
   "metadata": {},
   "outputs": [
    {
     "name": "stdout",
     "output_type": "stream",
     "text": [
      "Hello, Welcome to python Programming\n"
     ]
    }
   ],
   "source": [
    "# Print\n",
    "print('Hello, Welcome to python Programming')"
   ]
  },
  {
   "cell_type": "code",
   "execution_count": null,
   "id": "39845bbd",
   "metadata": {},
   "outputs": [],
   "source": [
    "dob = '12-08-2003'\n"
   ]
  }
 ],
 "metadata": {
  "kernelspec": {
   "display_name": "Python 3",
   "language": "python",
   "name": "python3"
  },
  "language_info": {
   "codemirror_mode": {
    "name": "ipython",
    "version": 3
   },
   "file_extension": ".py",
   "mimetype": "text/x-python",
   "name": "python",
   "nbconvert_exporter": "python",
   "pygments_lexer": "ipython3",
   "version": "3.12.7"
  }
 },
 "nbformat": 4,
 "nbformat_minor": 5
}
